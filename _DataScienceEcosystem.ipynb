{
 "cells": [
  {
   "cell_type": "markdown",
   "id": "fb3b81bb-c464-42a2-8fae-aceeba8f71dd",
   "metadata": {},
   "source": [
    "<h1>Data Science Tools and Ecosystem</h1>"
   ]
  },
  {
   "cell_type": "markdown",
   "id": "616bda92-407d-444f-8e6e-317faa9c8ff0",
   "metadata": {},
   "source": [
    "In this notebook, Data Science Tools and Ecosystem are summarized.\n",
    "some of the data science tools are:\n",
    "\n",
    "Data Visualization Tools:\n",
    "1.Matplotlib\n",
    "2.Seaborn\n",
    "3.Plotly\n",
    "\n",
    "Integrated Development Environments:\n",
    "1.Jupyter Notebooks\n",
    "2.RStudio\n",
    "\n",
    "Programming Languages:\n",
    "1.Python\n",
    "2.R\n",
    "\n",
    "Data Analysis:\n",
    "1.Pandas\n",
    "2.NumPy\n",
    "3.SQL\n",
    "\n",
    "Machine Learning:\n",
    "Scikit-learn\n",
    "TensorFlow\n",
    "PyTorch"
   ]
  },
  {
   "cell_type": "markdown",
   "id": "b1f828da-9e06-458f-b51a-e6ab6b3d4315",
   "metadata": {},
   "source": [
    "Some of the popular languages that Data Scientists use are:\n",
    "1.Python\n",
    "2.R\n",
    "3.Juila\n",
    "4.Scala\n",
    "5.SQL\n",
    "6.JAVA"
   ]
  },
  {
   "cell_type": "markdown",
   "id": "9506a2c8-99fb-4056-9c44-3cdd0dd1cdcc",
   "metadata": {},
   "source": [
    "Some of the commonly used libraries used by Data Scientists include:\n",
    "1.Numpy\n",
    "2.Pandas\n",
    "3.Keras\n",
    "4.Matplotlib\n",
    "5.Seaborn\n",
    "6.scikt-learn\n",
    "7.TensorFlow"
   ]
  },
  {
   "cell_type": "markdown",
   "id": "2b614ec9-f6a4-4853-a814-14a461ca001c",
   "metadata": {},
   "source": [
    "<table>\r\n",
    "  <tr>\r\n",
    "    <th>Data Science Tools</th>\r\n",
    "  </tr>\r\n",
    "  <tr>\r\n",
    "    <td>Jupyter Notebook</td>\r\n",
    "  </tr>\r\n",
    "  <tr>\r\n",
    "    <td>RStudio</td>\r\n",
    "  </tr>\r\n",
    "  <tr>\r\n",
    "    <td>Visual Studio Code (VSCode)</td>\r\n",
    "  </tr>\r\n",
    "</table>\r\n"
   ]
  },
  {
   "cell_type": "markdown",
   "id": "865b8e18-e42d-491d-affe-539a17b38dc4",
   "metadata": {},
   "source": [
    "<H3> Below are a few examples of evaluating arithmetic expressions in Python </H3>result_exp)  # Output: 16\r\n"
   ]
  },
  {
   "cell_type": "code",
   "execution_count": 2,
   "id": "85d1c92a-234f-40da-a5c0-e868b51d867d",
   "metadata": {},
   "outputs": [
    {
     "name": "stdout",
     "output_type": "stream",
     "text": [
      "17\n"
     ]
    }
   ],
   "source": [
    "a = (3*4)+5\n",
    "print(a)"
   ]
  },
  {
   "cell_type": "code",
   "execution_count": 3,
   "id": "fc518841-5af0-4943-ad2b-228ccf799629",
   "metadata": {},
   "outputs": [
    {
     "name": "stdout",
     "output_type": "stream",
     "text": [
      "3.3333333333333335\n"
     ]
    }
   ],
   "source": [
    "hours_to_minutes = 200/60\n",
    "print(hours_to_minutes)"
   ]
  },
  {
   "cell_type": "markdown",
   "id": "97261351-bd90-478a-874c-3f7b5906e1a7",
   "metadata": {},
   "source": [
    "<B>Objectives</B>\n",
    "<ul>\n",
    "    <li>\n",
    "        List of Essential Tools used by Data Scientist:\n",
    "    </li>\n",
    "    <li>\n",
    "        List of Data Visualization tools:\n",
    "    </li>\n",
    "    <li>\n",
    "        List of IDE's Required:\n",
    "    </li>\n",
    "    <li>\n",
    "        List of programming languages used by most of the data scientist:\n",
    "    </li>\n",
    "    <li>\n",
    "        List of Essential Tools used by Data Scientist:\n",
    "    </li>\n",
    "    <li>\n",
    "        Popular Machine Learning Libraries: \n",
    "    </li>\n",
    "</ul>\n"
   ]
  },
  {
   "cell_type": "code",
   "execution_count": 6,
   "id": "36e4db83-70eb-4e15-b811-0bcb3e462473",
   "metadata": {},
   "outputs": [
    {
     "ename": "SyntaxError",
     "evalue": "invalid syntax (79162611.py, line 1)",
     "output_type": "error",
     "traceback": [
      "\u001b[1;36m  Cell \u001b[1;32mIn[6], line 1\u001b[1;36m\u001b[0m\n\u001b[1;33m    <h1>Tejas Kanse</h1>\u001b[0m\n\u001b[1;37m    ^\u001b[0m\n\u001b[1;31mSyntaxError\u001b[0m\u001b[1;31m:\u001b[0m invalid syntax\n"
     ]
    }
   ],
   "source": [
    "<h1>Tejas Kanse</h1>"
   ]
  },
  {
   "cell_type": "code",
   "execution_count": null,
   "id": "a234fafc-b11c-4ccc-8bc1-4a2ab9bddc6d",
   "metadata": {},
   "outputs": [],
   "source": []
  }
 ],
 "metadata": {
  "kernelspec": {
   "display_name": "Python 3 (ipykernel)",
   "language": "python",
   "name": "python3"
  },
  "language_info": {
   "codemirror_mode": {
    "name": "ipython",
    "version": 3
   },
   "file_extension": ".py",
   "mimetype": "text/x-python",
   "name": "python",
   "nbconvert_exporter": "python",
   "pygments_lexer": "ipython3",
   "version": "3.11.7"
  }
 },
 "nbformat": 4,
 "nbformat_minor": 5
}
